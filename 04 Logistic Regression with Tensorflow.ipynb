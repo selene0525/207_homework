{
 "cells": [
  {
   "cell_type": "markdown",
   "metadata": {
    "id": "MKsRDH5ZUdfasdv"
   },
   "source": [
    "# Lab 4"
   ]
  },
  {
   "cell_type": "markdown",
   "metadata": {
    "id": "43534tdfgs-v"
   },
   "source": [
    "In this lab we will train classifiers for images using [logistic regression](https://en.wikipedia.org/wiki/Logistic_regression) and Tensorflow."
   ]
  },
  {
   "cell_type": "code",
   "execution_count": 1,
   "metadata": {
    "id": "7X58hOMTUH-w"
   },
   "outputs": [],
   "source": [
    "# Import the libraries we'll use below.\n",
    "import numpy as np\n",
    "from matplotlib import pyplot as plt\n",
    "import pandas as pd\n",
    "import seaborn as sns  # for nicer plots\n",
    "sns.set(style=\"darkgrid\")  # default style\n",
    "\n",
    "import tensorflow as tf\n",
    "from tensorflow import keras\n",
    "from keras import metrics\n",
    "tf.get_logger().setLevel('INFO')"
   ]
  },
  {
   "cell_type": "markdown",
   "metadata": {
    "id": "rHLcriKWLRe4"
   },
   "source": [
    "## Understanding the data\n",
    "We'll train models on the [Fashion MNIST](https://github.com/zalandoresearch/fashion-mnist) dataset. This consists of 70,000 grayscale images (28x28). Each image is associated with 1 of 10 classes. The dataset was split by the creators; there are 60,000 training images and 10,000 test images. \n",
    "\n",
    "Fashion MNIST classes:\n",
    "* T-shirt/top\n",
    "* Trouser\n",
    "* Pullover\n",
    "* Dress\n",
    "* Coat\n",
    "* Sandal\n",
    "* Shirt\n",
    "* Sneaker\n",
    "* Bag\n",
    "* Ankle boot\n",
    "\n",
    "Before doing any training (or evaluating), let's make sure we understand what we're working with. "
   ]
  },
  {
   "cell_type": "markdown",
   "metadata": {
    "id": "load_auto_data_set_text"
   },
   "source": [
    "### Load the data\n",
    "Tensorflow includes a growing [library of datasets](https://www.tensorflow.org/datasets/catalog/overview) and makes it easy to load them in numpy arrays."
   ]
  },
  {
   "cell_type": "code",
   "execution_count": 2,
   "metadata": {
    "id": "load_auto_data_set_code"
   },
   "outputs": [],
   "source": [
    "from keras.datasets import fashion_mnist\n",
    "\n",
    "# Load the Fashion MNIST dataset.\n",
    "\n",
    "(X_train, Y_train), (X_test, Y_test) = fashion_mnist.load_data()\n",
    "\n",
    "\n",
    "# Flatten Y_train and Y_test, so they become vectors of label values.\n",
    "# The label for X_train[0] is in Y_train[0].\n",
    "\n",
    "Y_train = Y_train.flatten()\n",
    "\n",
    "Y_test = Y_test.flatten()\n"
   ]
  },
  {
   "cell_type": "markdown",
   "metadata": {
    "id": "Eg9mUz9zcIil"
   },
   "source": [
    "### Basic Analysis\n",
    "Notice that `X_train`, `Y_train`, `X_test`, and `Y_test` are all numpy arrays. Let's print their shapes to confirm."
   ]
  },
  {
   "cell_type": "code",
   "execution_count": 3,
   "metadata": {
    "id": "H6jGmsYAdKEK"
   },
   "outputs": [
    {
     "name": "stdout",
     "output_type": "stream",
     "text": [
      "X_train.shape: (60000, 28, 28)\n",
      "Y_train.shape: (60000,)\n",
      "X_test.shape: (10000, 28, 28)\n",
      "Y_test.shape: (10000,)\n"
     ]
    }
   ],
   "source": [
    "print(\"X_train.shape:\", X_train.shape)\n",
    "print(\"Y_train.shape:\", Y_train.shape)\n",
    "print(\"X_test.shape:\", X_test.shape)\n",
    "print(\"Y_test.shape:\", Y_test.shape)"
   ]
  },
  {
   "cell_type": "code",
   "execution_count": 4,
   "metadata": {},
   "outputs": [
    {
     "data": {
      "image/png": "[encoded data removed]",
      "text/plain": [
       "<Figure size 720x360 with 5 Axes>"
      ]
     },
     "metadata": {
      "needs_background": "light"
     },
     "output_type": "display_data"
    }
   ],
   "source": [
    "# Create a figure with subplots. This returns a list of object handles in axs\n",
    "# which we can use to populate the plots.\n",
    "\n",
    "fig, axs = plt.subplots(nrows=1, ncols=5, figsize=(10,5))\n",
    "\n",
    "for i in range(5):\n",
    "  image = X_train[i]\n",
    "  label = Y_train[i]\n",
    "  #label_name = label_names[label]\n",
    "  axs[i].imshow(image)\n",
    "  #axs[i].set_title(label_name)\n",
    "  #axs[i].axis('off')\n",
    "    \n",
    "plt.show()\n"
   ]
  },
  {
   "cell_type": "markdown",
   "metadata": {
    "id": "fDeim44-dler"
   },
   "source": [
    "Notice that there are 60,000 instances in `X_train`. Each of these is a grayscale image represented by an 28-by-28 array of grayscale pixel values between 0 and 255 (the larger the value, the lighter the pixel). Before we continue, let's apply linear scaling to our pixel values, so they all fall between 0 and 1."
   ]
  },
  {
   "cell_type": "code",
   "execution_count": 5,
   "metadata": {
    "id": "wXukkWBWdlGj"
   },
   "outputs": [],
   "source": [
    "# Pixel values range from 0 to 255. To normalize the data, \n",
    "# we just need to divide all values by 255.\n",
    "\n",
    "X_train = X_train / 255\n",
    "\n",
    "X_test = X_test / 255\n"
   ]
  },
  {
   "cell_type": "markdown",
   "metadata": {
    "id": "oWsOQ3tbCOA7"
   },
   "source": [
    "In the previous lab, our input data had just a few features. Here, we treat **every pixel value as a separate feature**, so each input example has 28x28 (784) features!\n",
    "\n",
    "Fashion MNIST images have one of 10 possible labels (shown above). Since the labels are indices 0-9, let's keep a list of (string) names for convenience."
   ]
  },
  {
   "cell_type": "code",
   "execution_count": 6,
   "metadata": {
    "id": "cZpFxxStzSrP"
   },
   "outputs": [],
   "source": [
    "label_names = ['t-shirt', 'trouser', 'pullover', 'dress', 'coat',\n",
    "               'sandal', 'shirt', 'sneaker', 'bag', 'ankle boot']"
   ]
  },
  {
   "cell_type": "markdown",
   "metadata": {
    "id": "c5aXeK2VznCW"
   },
   "source": [
    "Next let's use the `imshow` function to look at the first few images in the training set."
   ]
  },
  {
   "cell_type": "code",
   "execution_count": 7,
   "metadata": {
    "id": "7mfV9b4I7cMW"
   },
   "outputs": [
    {
     "data": {
      "image/png": "[encoded data removed]",
      "text/plain": [
       "<Figure size 720x360 with 5 Axes>"
      ]
     },
     "metadata": {
      "needs_background": "light"
     },
     "output_type": "display_data"
    }
   ],
   "source": [
    "# Create a figure with subplots. This returns a list of object handles in axs\n",
    "# which we can use to populate the plots.\n",
    "\n",
    "fig, axs = plt.subplots(nrows=1, ncols=5, figsize=(10,5))\n",
    "\n",
    "for i in range(5):\n",
    "  image = X_train[i]\n",
    "  label = Y_train[i]\n",
    "  label_name = label_names[label]\n",
    "  axs[i].imshow(image, cmap='gray')\n",
    "  axs[i].set_title(label_name)\n",
    "  #axs[i].axis('off')\n",
    "    \n",
    "plt.show()\n"
   ]
  },
  {
   "cell_type": "markdown",
   "metadata": {
    "id": "aFx7Ts3b6N6d"
   },
   "source": [
    "---\n",
    "### Exercise 1 (8 points)\n",
    "\n",
    "Display the first 5 images for each class in a 10x5 grid."
   ]
  },
  {
   "cell_type": "code",
   "execution_count": 8,
   "metadata": {},
   "outputs": [
    {
     "data": {
      "image/png": "[encoded data removed]",
      "text/plain": [
       "<Figure size 720x1440 with 50 Axes>"
      ]
     },
     "metadata": {
      "needs_background": "light"
     },
     "output_type": "display_data"
    }
   ],
   "source": [
    "fig, axs = plt.subplots(nrows=10, ncols=5, figsize=(10,20))\n",
    "\n",
    "\n",
    "# For each of the 10 classes\n",
    "\n",
    "for c in range(10):\n",
    "    \n",
    "    # Get index of first 5 images\n",
    "    \n",
    "    indices = np.where(Y_train==c)[0][0:5]\n",
    "   \n",
    "\n",
    "    # Print each image\n",
    "    \n",
    "    for i in range(5):\n",
    "      image = X_train[ indices[i] ]\n",
    "      label = Y_train[ indices[i] ]\n",
    "      label_name = label_names[label]\n",
    "      axs[c][i].imshow(image, cmap='gray')\n",
    "      axs[c][i].set_title(label_name)\n",
    "      #axs[i].axis('off')\n",
    "\n",
    "plt.show()\n",
    "    "
   ]
  },
  {
   "cell_type": "markdown",
   "metadata": {
    "id": "xxOhpvdW6TbX"
   },
   "source": [
    "---"
   ]
  },
  {
   "cell_type": "markdown",
   "metadata": {
    "id": "qNvSx5tybqMR"
   },
   "source": [
    "## Sneaker Classification\n",
    "There are many things we can do with this dataset. Following our lectures, let's start with binary classification. We'll train a sneaker classifier, using sneaker images (class 7) as our positive examples ($y=1$) and all other images as negative examples ($y=0$).\n",
    "\n",
    "Once we've trained a model, it will produce predictions $\\hat{y}$, the probability that an input image $x$ is a sneaker."
   ]
  },
  {
   "cell_type": "markdown",
   "metadata": {
    "id": "DvcJJ_rUifF2"
   },
   "source": [
    "### Data Preprocessing\n",
    "Before we continue, we need to prepare the data for our binary classification task. The label for all the sneaker images should be 1 and the label for all the non-sneaker images should be 0. \n",
    "\n",
    "Programming note: Numpy allows us to perform what is called [boolean array indexing](https://docs.scipy.org/doc/numpy/reference/arrays.indexing.html#boolean-array-indexing).\n",
    "This means that a numpy array $A$ can be be modified according to boolean conditions in a matching sized array $B$ \n",
    "as follows: $A[B]$.\n",
    "We use this indexing to efficienty set our binary labels below."
   ]
  },
  {
   "cell_type": "code",
   "execution_count": 9,
   "metadata": {
    "id": "3webN4USifuB"
   },
   "outputs": [],
   "source": [
    "# Make copies of the original dataset for binary classification task.\n",
    "X_train_binary = np.copy(X_train)\n",
    "X_test_binary = np.copy(X_test)\n",
    "Y_train_binary = np.copy(Y_train)\n",
    "Y_test_binary = np.copy(Y_test)\n",
    "\n",
    "# Set labels: 1 for sneaker images, 0 for the others.\n",
    "# Note that a boolean array is created when Y_train_binary != 7 is evaluated.\n",
    "Y_train_binary[Y_train_binary != 7] = 0.0 \n",
    "Y_train_binary[Y_train_binary == 7] = 1.0\n",
    "Y_test_binary[Y_test_binary != 7] = 0.0\n",
    "Y_test_binary[Y_test_binary == 7] = 1.0"
   ]
  },
  {
   "cell_type": "markdown",
   "metadata": {
    "id": "84idQ2_Mm8w-"
   },
   "source": [
    "---\n",
    "### Exercise 2 (8 points)"
   ]
  },
  {
   "cell_type": "markdown",
   "metadata": {},
   "source": [
    "\n",
    "Before training any models, let's work some more with our raw feature values, comparing sneaker and non-sneaker images.\n",
    "\n",
    "1. Find all sneaker images in `X_train_binary` and compute the mean and standard deviation of the center pixel across all sneaker images. The center pixel is located at position [14, 14].\n",
    "\n",
    "2.   Find all non-sneaker images in `X_train_binary` and compute the mean and standard deviation of the center pixel  across all non-sneaker images. The center pixel is located at position [14, 14].\n",
    "\n",
    "3. Repeat 1 and 2 for the pixel located at positon [3, 14].\n",
    "\n",
    "4. Based on your results, do you think there is some evidence that suggests that we can use pixel values to discriminate between sneaker and non-sneaker images? Justify your answer."
   ]
  },
  {
   "cell_type": "code",
   "execution_count": 10,
   "metadata": {
    "id": "FblS-OVmns4a"
   },
   "outputs": [
    {
     "name": "stdout",
     "output_type": "stream",
     "text": [
      "Mean of center pixel of sneakers:  0.5460\n",
      "SD of center pixel of sneakers:  0.3114\n"
     ]
    }
   ],
   "source": [
    "# Question1: Mean and SD of the center pixel [14,14] across all Sneaker images\n",
    "\n",
    "# Get indices for image of sneakers\n",
    "\n",
    "indices = np.where(Y_train_binary==1)[0]\n",
    "\n",
    "\n",
    "# Create a list of the center pixels for sneakers\n",
    "\n",
    "center_pixel_list = []\n",
    "\n",
    "for i in range( len(indices) ):\n",
    "    center_pixel = X_train_binary[i][14][14]\n",
    "    center_pixel_list.append(center_pixel)\n",
    "\n",
    "    \n",
    "# Get Mean and SD of the center pixels\n",
    "\n",
    "print(\"Mean of center pixel of sneakers: \", f'{np.mean(center_pixel_list):.4f}' ) \n",
    "print(\"SD of center pixel of sneakers: \", f'{np.std(center_pixel_list):.4f}' ) \n"
   ]
  },
  {
   "cell_type": "code",
   "execution_count": 11,
   "metadata": {},
   "outputs": [
    {
     "name": "stdout",
     "output_type": "stream",
     "text": [
      "Mean of center pixel of non-sneakers:  0.5456\n",
      "SD of center pixel of non-sneakers:  0.3099\n"
     ]
    }
   ],
   "source": [
    "# Question 2: Mean and SD of the center pixel [14,14] across all non-sneaker images\n",
    "\n",
    "# Get indices for image of non-sneakers\n",
    "\n",
    "indices = np.where(Y_train_binary==0)[0]\n",
    "\n",
    "\n",
    "# Create a list of the center pixels for non-sneakers\n",
    "\n",
    "center_pixel_list = []\n",
    "\n",
    "for i in range( len(indices) ):\n",
    "    center_pixel = X_train_binary[i][14][14]\n",
    "    center_pixel_list.append(center_pixel)\n",
    "\n",
    "    \n",
    "# Get Mean and SD of the center pixels\n",
    "\n",
    "print(\"Mean of center pixel of non-sneakers: \", f'{np.mean(center_pixel_list):.4f}' ) \n",
    "print(\"SD of center pixel of non-sneakers: \", f'{np.std(center_pixel_list):.4f}' ) \n"
   ]
  },
  {
   "cell_type": "code",
   "execution_count": 12,
   "metadata": {},
   "outputs": [
    {
     "name": "stdout",
     "output_type": "stream",
     "text": [
      "Mean of [3,14] pixel of sneakers:  0.4162\n",
      "SD of [3,14] pixel of sneakers:  0.3762\n"
     ]
    }
   ],
   "source": [
    "# Question 3a: Mean and SD of pixel [3,14] across all Sneaker images\n",
    "\n",
    "# Get indices for image of sneakers\n",
    "\n",
    "indices = np.where(Y_train_binary==1)[0]\n",
    "\n",
    "\n",
    "# Create a list of the [3,14] pixels for sneakers\n",
    "\n",
    "pixel_list = []\n",
    "\n",
    "for i in range( len(indices) ):\n",
    "    pixel = X_train_binary[i][3][14]\n",
    "    pixel_list.append(pixel)\n",
    "\n",
    "    \n",
    "# Get Mean and SD of the [3,14] pixels\n",
    "\n",
    "print(\"Mean of [3,14] pixel of sneakers: \", f'{np.mean(pixel_list):.4f}' ) \n",
    "print(\"SD of [3,14] pixel of sneakers: \", f'{np.std(pixel_list):.4f}' ) \n"
   ]
  },
  {
   "cell_type": "code",
   "execution_count": 13,
   "metadata": {},
   "outputs": [
    {
     "name": "stdout",
     "output_type": "stream",
     "text": [
      "Mean of [3,14] pixel of non-sneakers:  0.4178\n",
      "SD of [3,14] pixel of non-sneakers:  0.3757\n"
     ]
    }
   ],
   "source": [
    "# Question 3b: Mean and SD of pixel [3,14] across all non-sneaker images\n",
    "\n",
    "# Get indices for image of non-sneakers\n",
    "\n",
    "indices = np.where(Y_train_binary==0)[0]\n",
    "\n",
    "\n",
    "# Create a list of the [3,14] pixels for non-sneakers\n",
    "\n",
    "pixel_list = []\n",
    "\n",
    "for i in range( len(indices) ):\n",
    "    pixel = X_train_binary[i][3][14]\n",
    "    pixel_list.append(pixel)\n",
    "\n",
    "    \n",
    "# Get Mean and SD of the [3,14] pixels\n",
    "\n",
    "print(\"Mean of [3,14] pixel of non-sneakers: \", f'{np.mean(pixel_list):.4f}' ) \n",
    "print(\"SD of [3,14] pixel of non-sneakers: \", f'{np.std(pixel_list):.4f}' ) \n"
   ]
  },
  {
   "cell_type": "markdown",
   "metadata": {
    "id": "j9EH9D7Faf9n"
   },
   "source": [
    "*Written answer:*\n",
    "\n",
    "1) Center pixel / Sneakers = Mean:  0.5460, SD:  0.3114\n",
    "\n",
    "2) Center pixel / Non-sneakers = Mean:  0.5456, SD:  0.3099\n",
    "\n",
    "3) 3,14 pixel / Sneakers = Mean: 0.4162, SD: 0.3762  \n",
    "3,14 pixel / Non-sneakers = Mean: 0.4178, SD: 0.3757 \n",
    "\n",
    "4) It would be very difficult to use pixel values to discriminate between sneaker and non-sneaker images because there wasn't much difference in the mean and SD of the center pixels for the sneaker images and the non-sneaker images. Also, there wasn't much difference in the mean and SD of pixel (3,14) for the sneaker images and the non-sneaker images. \n"
   ]
  },
  {
   "cell_type": "markdown",
   "metadata": {
    "id": "D35qqLaPd1jk"
   },
   "source": [
    "---"
   ]
  },
  {
   "cell_type": "markdown",
   "metadata": {
    "id": "br_TAXD7p5gQ"
   },
   "source": [
    "### Data Shuffling\n",
    "Just like in the previous lab, we'll be using SGD (Stochastic Gradient Descent) for training. This means that it is important that **each batch is a random sample of the data**.\n",
    "\n",
    "This time we can use [integer array indexing](https://numpy.org/doc/stable/reference/arrays.indexing.html#integer-array-indexing) to re-order the data and labels using a list of shuffled indices."
   ]
  },
  {
   "cell_type": "code",
   "execution_count": 14,
   "metadata": {
    "id": "sNryj_kGq8vV"
   },
   "outputs": [],
   "source": [
    "np.random.seed(0) # For reproducibility\n",
    "\n",
    "indices = np.arange(X_train_binary.shape[0])\n",
    "shuffled_indices = np.random.permutation(indices)\n",
    "\n",
    "# Re-order training examples and corresponding labels using the randomly\n",
    "# shuffled indices.\n",
    "X_train_binary = X_train_binary[shuffled_indices]\n",
    "Y_train_binary = Y_train_binary[shuffled_indices]"
   ]
  },
  {
   "cell_type": "markdown",
   "metadata": {
    "id": "E01QY9SRpwPE"
   },
   "source": [
    "## Logistic Regression\n",
    "\n",
    "Recall that logistic regression is an application of the logistic (sigmoid) function to the linear regression model:\n",
    "\n",
    "\\begin{equation}\n",
    "y=\\frac{1}{1+e^{-z}} \n",
    "\\end{equation}\n",
    "\n",
    "<center>\n",
    "<img src=\"https://developers.google.com/machine-learning/crash-course/images/SigmoidFunction.png\" alt=\"Sigmoid Function\" width=\"45%\"/>\n",
    "</center>\n",
    "\n",
    "where:\n",
    "\n",
    "\\begin{equation}\n",
    "z = b + w_1x_1 + w_2x_2 + ... + w_nx_n\n",
    "\\end{equation}\n",
    "\n",
    "As you can see, the output $y$ is in the range $[0,1]$, the probability of the positive class. If we want a label (instead of a probability), we need to choose a threshold, like $0.5$. A value above or equal to that threshold indicates that the input should be classified as positive (e.g., sneaker); a value below the threshold indicates that the input should be classified as negative (e.g. non-sneaker)."
   ]
  },
  {
   "cell_type": "markdown",
   "metadata": {
    "id": "PsfzNnVFwh0K"
   },
   "source": [
    "### Loss Function\n",
    "\n",
    "In place of MSE, which we used for linear regression, we need a loss function for logistic regression that's appropriate for classification. The *Log Loss* (also known as *binary cross-entropy*), is defined as follows:\n",
    "\n",
    "\\begin{equation}\n",
    "-\\frac{1}{|Y|} \\sum_{y_i \\in Y}y_i log(\\hat{y}_i) + (1−y_i)log(1−\\hat{y}_i)\n",
    "\\end{equation}\n",
    "\n",
    "Recall that $y_i$ is the label for example $i$ and $\\hat{y_i}$ is the predicted probability (of the positive class) for example $i$. Note that only the first term in the sum is active for positive examples (the second term is 0 when $y_i = 1$) and only the second term in the sum is active for negative examples (the first term is 0 when $y_i = 0$).\n",
    "\n",
    "The log loss is differentiable, allowing us to compute gradients and run SGD. It also happens to be convex, which guarantees that SGD (with a suitable learning rate) will produce a global minimum."
   ]
  },
  {
   "cell_type": "markdown",
   "metadata": {
    "id": "TGgQ-ASYiHbK"
   },
   "source": [
    "## Baseline\n",
    "\n",
    "When dealing with classification problems, a simple, but useful baseline is to select the *majority* class (the most common label in the training set) and use it as the prediction for all inputs.\n",
    "\n",
    "Our training dataset consists of 6,000 sneaker examples (10%), and 54,000 non-sneaker images (90%). So our majority class baseline classifies everything as *non-sneaker*. Notice that, for our particular dataset, this will yield an accuracy of 90%. Let's see if we can train a model that can beat the baseline."
   ]
  },
  {
   "cell_type": "code",
   "execution_count": 15,
   "metadata": {
    "id": "ls30LfwsIZCv"
   },
   "outputs": [
    {
     "name": "stdout",
     "output_type": "stream",
     "text": [
      "Number of sneaker images in training set: 6000\n",
      "Number of non-sneaker images in training set: 54000\n"
     ]
    }
   ],
   "source": [
    "print(\"Number of sneaker images in training set: %d\"%(Y_train_binary == 1).sum())\n",
    "print(\"Number of non-sneaker images in training set: %d\"%(Y_train_binary == 0).sum())"
   ]
  },
  {
   "cell_type": "markdown",
   "metadata": {
    "id": "JXNj1z0IlDw_"
   },
   "source": [
    "---\n",
    "### Exercise 3 (8 points)\n",
    "\n",
    "Implement a function that computes the Log Loss (binary cross-entropy) metric and use it to evaluate our baseline on both the train and test data. Use 0.1 as the predicted probability for your baseline (reflecting what we know about the original distribution of classes in our dataset)."
   ]
  },
  {
   "cell_type": "code",
   "execution_count": 16,
   "metadata": {
    "id": "oFM62C3uhoq_"
   },
   "outputs": [],
   "source": [
    "# Function to calculate log loss\n",
    "\n",
    "def log_loss(Y_true, Y_pred):\n",
    "    \n",
    "  \"\"\"Returns the binary log loss for a list of labels and predictions.\n",
    "  \n",
    "  Args:\n",
    "    Y_true: A list of (true) labels (0 or 1)\n",
    "    Y_pred: A list of corresponding predicted probabilities\n",
    "\n",
    "  Returns:\n",
    "    Binary log loss\n",
    "  \"\"\"\n",
    "\n",
    "  log_loss_list = []\n",
    "\n",
    "  for i in range( len(Y_true) ):\n",
    "\n",
    "    log_loss_value = ( -1 * np.dot( Y_true[i], np.log(Y_pred[i]) ) ) - ( np.dot( (1-Y_true[i]), (np.log(1-Y_pred[i])) ) )\n",
    "    \n",
    "    log_loss_list.append(log_loss_value)\n",
    "        \n",
    "  return np.mean(log_loss_list)     \n",
    "\n"
   ]
  },
  {
   "cell_type": "code",
   "execution_count": 17,
   "metadata": {},
   "outputs": [
    {
     "name": "stdout",
     "output_type": "stream",
     "text": [
      "Log loss of baseline model on training set:  0.32508297339144815\n"
     ]
    }
   ],
   "source": [
    "# Log loss of applying baseline model to training set\n",
    "\n",
    "log_loss_train = log_loss(Y_train_binary, [0.1]*len(Y_train_binary) )\n",
    "\n",
    "print(\"Log loss of baseline model on training set: \", log_loss_train) \n"
   ]
  },
  {
   "cell_type": "code",
   "execution_count": 18,
   "metadata": {},
   "outputs": [
    {
     "name": "stdout",
     "output_type": "stream",
     "text": [
      "Log loss of baseline model on test set:  0.3250829733914482\n"
     ]
    }
   ],
   "source": [
    "# Log loss of applying baseline model to test set\n",
    "\n",
    "log_loss_test = log_loss(Y_test_binary, [0.1]*len(Y_test_binary) )\n",
    "\n",
    "print(\"Log loss of baseline model on test set: \", log_loss_test) \n"
   ]
  },
  {
   "cell_type": "markdown",
   "metadata": {
    "id": "kZNKo4axhzY4"
   },
   "source": [
    "---"
   ]
  },
  {
   "cell_type": "markdown",
   "metadata": {
    "id": "35A7So50uc-3"
   },
   "source": [
    "## Build a model\n",
    "We will use Tensorflow/Keras to build our logistic regression model. This should look very similar to the models you built for linear regression but with a few key differences:\n",
    "* We use the Keras flatten layer to turn the 2-D 28x28 pixel grid inputs into 1-D vector inputs.\n",
    "* We configure our dense layer with a sigmoid activation, which applies a sigmoid function to the output of the linear mapping $xW^T$.\n",
    "* We specify binary_crossentropy as the loss (synonymous with log loss) when compiling the model."
   ]
  },
  {
   "cell_type": "code",
   "execution_count": 19,
   "metadata": {
    "id": "eaKF1dVEwsJq"
   },
   "outputs": [],
   "source": [
    "def build_model(learning_rate=0.01):\n",
    "    \n",
    "  \"\"\"Build a TF logistic regression model using Keras.\n",
    "\n",
    "  Args:\n",
    "    learning_rate: The desired learning rate for SGD.\n",
    "\n",
    "  Returns:\n",
    "    model: A tf.keras model (graph).\n",
    "  \"\"\"\n",
    "\n",
    "  # This is not strictly necessary, but each time you build a model, TF adds\n",
    "  # new nodes (rather than overwriting), so the colab session can end up\n",
    "  # storing lots of copies of the graph when you only care about the most\n",
    "  # recent. Also, as there is some randomness built into training with SGD,\n",
    "  # setting a random seed ensures that results are the same on each identical\n",
    "  # training run.\n",
    "\n",
    "  tf.keras.backend.clear_session()\n",
    "  np.random.seed(0)\n",
    "  tf.random.set_seed(0)\n",
    "\n",
    "  # Build a model using keras.Sequential.\n",
    "  model = keras.Sequential()\n",
    "\n",
    "  # Keras layers can do pre-processing. This layer will take our 28x28 images\n",
    "  # and flatten them into vectors of size 784.\n",
    "  model.add(keras.layers.Flatten())\n",
    "  \n",
    "  # This layer constructs the linear set of parameters for each input feature\n",
    "  # (as well as a bias), and applies a sigmoid to the result. The result is\n",
    "  # binary logistic regression.\n",
    "  model.add(keras.layers.Dense(\n",
    "      units=1,                     # output dim (for binary classification)\n",
    "      use_bias=True,               # use a bias param\n",
    "      activation=\"sigmoid\"         # apply the sigmoid function!\n",
    "  ))\n",
    "\n",
    "  # Use the SGD optimizer as usual.\n",
    "  optimizer = tf.keras.optimizers.SGD(learning_rate=learning_rate)\n",
    "\n",
    "  # We specify the binary_crossentropy loss (equivalent to log loss).\n",
    "  # Notice that we are including 'binary accuracy' as one of the metrics that we\n",
    "  # ask Tensorflow to report when evaluating the model.\n",
    "  model.compile(loss='binary_crossentropy', \n",
    "                optimizer=optimizer, \n",
    "                metrics=[metrics.binary_accuracy])\n",
    "\n",
    "  return model"
   ]
  },
  {
   "cell_type": "markdown",
   "metadata": {
    "id": "e9sNzLTFWliB"
   },
   "source": [
    "Let's make sure model building code works. Before training, the parameters of the model are initialized randomly (this is the default). While the untrained model won't make good predictions, we should still be able to pass data through it and get probability outputs."
   ]
  },
  {
   "cell_type": "code",
   "execution_count": 20,
   "metadata": {
    "id": "ZrpMK0XfX4-M"
   },
   "outputs": [
    {
     "name": "stdout",
     "output_type": "stream",
     "text": [
      "1/1 [==============================] - 0s 212ms/step\n",
      "[[0.5844643 ]\n",
      " [0.553611  ]\n",
      " [0.4613166 ]\n",
      " [0.49352476]\n",
      " [0.56776834]]\n"
     ]
    }
   ],
   "source": [
    "# Build the model.\n",
    "model = build_model()\n",
    "\n",
    "# Make a prediction for five inputs.\n",
    "print(model.predict(X_train_binary[0:5]))"
   ]
  },
  {
   "cell_type": "markdown",
   "metadata": {
    "id": "ymQ3i8aRiCcO"
   },
   "source": [
    "As expected, the outputs look like probabilities (in [0,1]). Once the model is trained, we hope that these predictions correspond to the probability that each input image is a sneaker."
   ]
  },
  {
   "cell_type": "markdown",
   "metadata": {
    "id": "OUQDiYqCh2Ns"
   },
   "source": [
    "## Train a model\n",
    "Let's train the model. Note that we're using 10% of the training data as a *validation split*. This serves a similar purpose to our test data, allowing us to check for over-fitting during training. We don't use the test data here because we might run lots of experiments, and over time, we might adjust settings to improve results on the validation set. We want to preserve the purity of the test data to allow for the cleanest possible evaluation at the end of the experimentation process."
   ]
  },
  {
   "cell_type": "code",
   "execution_count": 21,
   "metadata": {
    "id": "KkUagTzxpWdr"
   },
   "outputs": [
    {
     "name": "stdout",
     "output_type": "stream",
     "text": [
      "Epoch 1/5\n",
      "844/844 [==============================] - 2s 2ms/step - loss: 0.1420 - binary_accuracy: 0.9425 - val_loss: 0.1131 - val_binary_accuracy: 0.9538\n",
      "Epoch 2/5\n",
      "844/844 [==============================] - 1s 1ms/step - loss: 0.1053 - binary_accuracy: 0.9578 - val_loss: 0.1015 - val_binary_accuracy: 0.9607\n",
      "Epoch 3/5\n",
      "844/844 [==============================] - 1s 1ms/step - loss: 0.0955 - binary_accuracy: 0.9637 - val_loss: 0.0947 - val_binary_accuracy: 0.9613\n",
      "Epoch 4/5\n",
      "844/844 [==============================] - 1s 1ms/step - loss: 0.0891 - binary_accuracy: 0.9669 - val_loss: 0.0898 - val_binary_accuracy: 0.9633\n",
      "Epoch 5/5\n",
      "844/844 [==============================] - 1s 1ms/step - loss: 0.0846 - binary_accuracy: 0.9692 - val_loss: 0.0867 - val_binary_accuracy: 0.9645\n"
     ]
    },
    {
     "data": {
      "text/html": [
       "<div>\n",
       "<style scoped>\n",
       "    .dataframe tbody tr th:only-of-type {\n",
       "        vertical-align: middle;\n",
       "    }\n",
       "\n",
       "    .dataframe tbody tr th {\n",
       "        vertical-align: top;\n",
       "    }\n",
       "\n",
       "    .dataframe thead th {\n",
       "        text-align: right;\n",
       "    }\n",
       "</style>\n",
       "<table border=\"1\" class=\"dataframe\">\n",
       "  <thead>\n",
       "    <tr style=\"text-align: right;\">\n",
       "      <th></th>\n",
       "      <th>loss</th>\n",
       "      <th>binary_accuracy</th>\n",
       "      <th>val_loss</th>\n",
       "      <th>val_binary_accuracy</th>\n",
       "    </tr>\n",
       "  </thead>\n",
       "  <tbody>\n",
       "    <tr>\n",
       "      <th>0</th>\n",
       "      <td>0.141984</td>\n",
       "      <td>0.942537</td>\n",
       "      <td>0.113075</td>\n",
       "      <td>0.953833</td>\n",
       "    </tr>\n",
       "    <tr>\n",
       "      <th>1</th>\n",
       "      <td>0.105301</td>\n",
       "      <td>0.957833</td>\n",
       "      <td>0.101534</td>\n",
       "      <td>0.960667</td>\n",
       "    </tr>\n",
       "    <tr>\n",
       "      <th>2</th>\n",
       "      <td>0.095455</td>\n",
       "      <td>0.963741</td>\n",
       "      <td>0.094710</td>\n",
       "      <td>0.961333</td>\n",
       "    </tr>\n",
       "    <tr>\n",
       "      <th>3</th>\n",
       "      <td>0.089140</td>\n",
       "      <td>0.966907</td>\n",
       "      <td>0.089766</td>\n",
       "      <td>0.963333</td>\n",
       "    </tr>\n",
       "    <tr>\n",
       "      <th>4</th>\n",
       "      <td>0.084574</td>\n",
       "      <td>0.969167</td>\n",
       "      <td>0.086666</td>\n",
       "      <td>0.964500</td>\n",
       "    </tr>\n",
       "  </tbody>\n",
       "</table>\n",
       "</div>"
      ],
      "text/plain": [
       "       loss  binary_accuracy  val_loss  val_binary_accuracy\n",
       "0  0.141984         0.942537  0.113075             0.953833\n",
       "1  0.105301         0.957833  0.101534             0.960667\n",
       "2  0.095455         0.963741  0.094710             0.961333\n",
       "3  0.089140         0.966907  0.089766             0.963333\n",
       "4  0.084574         0.969167  0.086666             0.964500"
      ]
     },
     "metadata": {},
     "output_type": "display_data"
    }
   ],
   "source": [
    "model = build_model(learning_rate=0.01)\n",
    "\n",
    "# Fit the model.\n",
    "history = model.fit(\n",
    "  x = X_train_binary,   # our binary training examples\n",
    "  y = Y_train_binary,   # corresponding binary labels\n",
    "  epochs=5,             # number of passes through the training data\n",
    "  batch_size=64,        # mini-batch size for SGD\n",
    "  validation_split=0.1, # use a fraction of the examples for validation\n",
    "  verbose=1             # display some progress output during training\n",
    "  )\n",
    "\n",
    "# Convert the return value into a DataFrame so we can see the train loss \n",
    "# and binary accuracy after every epoch.\n",
    "history = pd.DataFrame(history.history)\n",
    "display(history)"
   ]
  },
  {
   "cell_type": "markdown",
   "metadata": {
    "id": "eS8lOgCK-0At"
   },
   "source": [
    "## Evaluate the model\n",
    "\n",
    "Good news. It appears that our model is doing better than our baseline. Let's use the trained model to predict probabilities for the test data. We can use `predict` to run *inference*."
   ]
  },
  {
   "cell_type": "code",
   "execution_count": 22,
   "metadata": {
    "id": "t0PU3br4-zv8"
   },
   "outputs": [
    {
     "name": "stdout",
     "output_type": "stream",
     "text": [
      "313/313 [==============================] - 0s 867us/step\n",
      "(10000,)\n",
      "\n",
      " [2.8747359e-01 2.6062403e-07 3.5899645e-04 ... 1.1245330e-03 3.4463364e-03\n",
      " 3.0389774e-01]\n"
     ]
    }
   ],
   "source": [
    "# The result of model.predict has an extra dimension, so we flatten to get a vector of predictions. \n",
    "# Note that these are the predicted probabilities of the positive (sneaker) class.\n",
    "\n",
    "test_predictions = model.predict(X_test_binary).flatten()\n",
    "\n",
    "print(test_predictions.shape)\n",
    "print(\"\\n\", test_predictions)\n"
   ]
  },
  {
   "cell_type": "markdown",
   "metadata": {
    "id": "LTdRTsyM2YvI"
   },
   "source": [
    "---\n",
    "### Exercise 4 (8 points)\n",
    "\n",
    "Compute the accuracy on the test data using a threshold of 0.5. Remember to use Y_test_binary for the true labels."
   ]
  },
  {
   "cell_type": "code",
   "execution_count": 23,
   "metadata": {},
   "outputs": [
    {
     "name": "stdout",
     "output_type": "stream",
     "text": [
      "Prediction accuracy of test set: 0.9709\n"
     ]
    }
   ],
   "source": [
    "# If predicted probability >= 0.5, change to 1, otherwise 0\n",
    "test_predictions_binary = np.copy(test_predictions)\n",
    "test_predictions_binary = np.where(test_predictions_binary>=0.5, 1, 0)\n",
    "\n",
    "# Calculate accuracy\n",
    "accuracy =  (test_predictions_binary == Y_test_binary).sum() / len(Y_test_binary)\n",
    "print( 'Prediction accuracy of test set: %.4f'% ( accuracy ) )\n"
   ]
  },
  {
   "cell_type": "markdown",
   "metadata": {
    "id": "LVEF6i092hfl"
   },
   "source": [
    "---"
   ]
  },
  {
   "cell_type": "markdown",
   "metadata": {
    "id": "tV_gTk-9YI3d"
   },
   "source": [
    "## Analyze the model\n",
    "\n",
    "Let's investigate what the model has learned. Recall how to get the learned weights from the model:"
   ]
  },
  {
   "cell_type": "code",
   "execution_count": 24,
   "metadata": {
    "id": "n9aw-V-FTlaq"
   },
   "outputs": [
    {
     "name": "stdout",
     "output_type": "stream",
     "text": [
      "[<keras.layers.reshaping.flatten.Flatten object at 0x00000219F4D2BB50>, <keras.layers.core.dense.Dense object at 0x00000219F5074FD0>]\n",
      "\n",
      " Bias: -0.44526395\n",
      "\n",
      " Weights shape: (784,)\n"
     ]
    }
   ],
   "source": [
    "# The model includes 2 layers: a flattening layer and a dense layer.\n",
    "print(model.layers)\n",
    "\n",
    "# Retrieve the weights and biases from the dense layer.\n",
    "weights, biases = model.layers[1].get_weights()\n",
    "bias = biases[0]  # there's only 1 bias\n",
    "weights = weights.flatten()  # flatten the weights to a vector\n",
    "print('\\n Bias:', bias)\n",
    "print('\\n Weights shape:', weights.shape)"
   ]
  },
  {
   "cell_type": "markdown",
   "metadata": {
    "id": "9gfq7t1naoTM"
   },
   "source": [
    "---\n",
    "### Exercise 5 (8 points)\n",
    "\n",
    "1. Using the your knowledge of the model's functional form, compute the predicted probability (of the sneaker class) for an image of all 0-valued inputs.\n",
    "\n",
    "2. Confirm this probability by constructing a fake image with all 0s and use model.predict."
   ]
  },
  {
   "cell_type": "code",
   "execution_count": 25,
   "metadata": {
    "id": "3d4NzODhbB8G"
   },
   "outputs": [
    {
     "name": "stdout",
     "output_type": "stream",
     "text": [
      "Predicted probability:  0.39049\n"
     ]
    }
   ],
   "source": [
    "# Compute the predicted probability (of the sneaker class) for an image of all 0-valued inputs\n",
    "\n",
    "# Calculate the output of linear function\n",
    "input = -1 * (bias + np.sum(weights*0))\n",
    "\n",
    "# Calculate predicted probability using sigmoid activation function\n",
    "predicted_prob = 1 / (1 + np.exp( input ))\n",
    "\n",
    "print(\"Predicted probability: \", f'{ predicted_prob :.5f}' ) \n",
    "      "
   ]
  },
  {
   "cell_type": "code",
   "execution_count": 26,
   "metadata": {},
   "outputs": [
    {
     "name": "stdout",
     "output_type": "stream",
     "text": [
      "1/1 [==============================] - 0s 38ms/step\n",
      "\n",
      " Predicted probability:  [[0.39049]]\n"
     ]
    }
   ],
   "source": [
    "# Confirm this probability by constructing a fake image with all 0s and use model.predict\n",
    "\n",
    "# Make an image with all 0\n",
    "arr = np.full((1, 28, 28), 0)\n",
    "\n",
    "# Predict probability using model.predict\n",
    "np.set_printoptions(precision=5)\n",
    "print(\"\\n Predicted probability: \",  model.predict(arr)  ) "
   ]
  },
  {
   "cell_type": "markdown",
   "metadata": {
    "id": "LsCGfuB1c_vs"
   },
   "source": [
    "---"
   ]
  }
 ],
 "metadata": {
  "colab": {
   "collapsed_sections": [
    "copyright",
    "LOcjWKAljbqr",
    "bCBT54r7k2YL",
    "loqjuOZFlEdt"
   ],
   "name": "04 Logistic Regression with Tensorflow.ipynb",
   "private_outputs": true,
   "provenance": [],
   "toc_visible": true
  },
  "kernelspec": {
   "display_name": "Python 3 (ipykernel)",
   "language": "python",
   "name": "python3"
  },
  "language_info": {
   "codemirror_mode": {
    "name": "ipython",
    "version": 3
   },
   "file_extension": ".py",
   "mimetype": "text/x-python",
   "name": "python",
   "nbconvert_exporter": "python",
   "pygments_lexer": "ipython3",
   "version": "3.9.5"
  }
 },
 "nbformat": 4,
 "nbformat_minor": 4
}
